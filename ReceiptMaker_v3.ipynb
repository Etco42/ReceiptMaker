{
 "cells": [
  {
   "cell_type": "code",
   "execution_count": 2,
   "id": "fb292d17",
   "metadata": {},
   "outputs": [
    {
     "name": "stdout",
     "output_type": "stream",
     "text": [
      "Requirement already satisfied: pandas in c:\\users\\iteyec\\appdata\\local\\anaconda3\\lib\\site-packages (2.0.3)\n",
      "Requirement already satisfied: python-docx in c:\\users\\iteyec\\appdata\\local\\anaconda3\\lib\\site-packages (1.1.0)\n",
      "Requirement already satisfied: python-dateutil>=2.8.2 in c:\\users\\iteyec\\appdata\\local\\anaconda3\\lib\\site-packages (from pandas) (2.8.2)\n",
      "Requirement already satisfied: pytz>=2020.1 in c:\\users\\iteyec\\appdata\\local\\anaconda3\\lib\\site-packages (from pandas) (2023.3.post1)\n",
      "Requirement already satisfied: tzdata>=2022.1 in c:\\users\\iteyec\\appdata\\local\\anaconda3\\lib\\site-packages (from pandas) (2023.3)\n",
      "Requirement already satisfied: numpy>=1.21.0 in c:\\users\\iteyec\\appdata\\local\\anaconda3\\lib\\site-packages (from pandas) (1.24.3)\n",
      "Requirement already satisfied: lxml>=3.1.0 in c:\\users\\iteyec\\appdata\\local\\anaconda3\\lib\\site-packages (from python-docx) (4.9.3)\n",
      "Requirement already satisfied: typing-extensions in c:\\users\\iteyec\\appdata\\local\\anaconda3\\lib\\site-packages (from python-docx) (4.7.1)\n",
      "Requirement already satisfied: six>=1.5 in c:\\users\\iteyec\\appdata\\local\\anaconda3\\lib\\site-packages (from python-dateutil>=2.8.2->pandas) (1.16.0)\n",
      "Requirement already satisfied: pywin32 in c:\\users\\iteyec\\appdata\\local\\anaconda3\\lib\\site-packages (305.1)\n"
     ]
    }
   ],
   "source": [
    "# install what needed\n",
    "!pip install pandas python-docx\n",
    "!pip install pywin32"
   ]
  },
  {
   "cell_type": "code",
   "execution_count": 76,
   "id": "3fc69289",
   "metadata": {},
   "outputs": [],
   "source": [
    "import pandas as pd\n",
    "import win32com.client as win32\n",
    "from datetime import datetime\n",
    "import os\n",
    "\n",
    "# Load Excel data\n",
    "MyFile = \"April2024.xlsx\" # input(\"Enter your file path: \")\n",
    "df = pd.read_excel(MyFile)\n",
    "\n",
    "# Start Word\n",
    "word = win32.gencache.EnsureDispatch('Word.Application')\n",
    "word.Visible = True\n",
    "\n",
    "MonthsNames = ['ינואר','פברואר','מרץ','אפריל','מאי','יוני','יולי','אוגוסט','ספטמבר','אוקטובר','נובמבר','דצמבר']\n",
    "\n",
    "# Loop over each row in the Excel data\n",
    "FirstMonth = 4\n",
    "Length_of_Month_Vec = 13-FirstMonth\n",
    "FirstPayer = 1\n",
    "LastPayer = 34\n",
    "First_Day_to_Look = 11.4 #only new payer\n",
    "\n",
    "Payers = range(2*(FirstPayer-1), 2*LastPayer-1, 2) #(np.array([4,12,15,25])-1)*2 #\n",
    "for i in Payers:  # size(raw, 1)\n",
    "    # collect date\n",
    "    Name = df.iloc[i, 0]\n",
    "    Apartment = int(df.iloc[i, 1])\n",
    "    Methodi = df.iloc[i+1, 2]\n",
    "    if pd.isnull(Methodi):\n",
    "        Methodi = 'העברה'\n",
    "    paymentsVec = df.iloc[i, 3:15].values\n",
    "    payments = paymentsVec[~pd.isnull(paymentsVec)]\n",
    "    Sum = sum(payments)\n",
    "    paidMonths = round(Sum/250)\n",
    "    if paidMonths==0:\n",
    "        continue\n",
    "    \n",
    "    DateVector = [datetime.strptime(x+'.24', 'שולם %d.%m.%y') if isinstance(x, str) else None for x in df.iloc[i+1, 3:15]]\n",
    "    ValiDate = [x is not None for x in DateVector]\n",
    "\n",
    "    PaidVec = [False]*12\n",
    "    PaidVec[:paidMonths] = [True]*paidMonths\n",
    "    PaidMonthVec = [0]*12\n",
    "    Last_i = 0\n",
    "    for Vi in range(1,len(ValiDate)+1):\n",
    "        if ValiDate[Vi-1]:\n",
    "            nowNumMonth = round(paymentsVec[Vi-1]/250)\n",
    "            if nowNumMonth > 0:\n",
    "                PaidMonthVec[Last_i:Last_i+nowNumMonth] = [Vi]*(nowNumMonth)\n",
    "                Last_i = Last_i + nowNumMonth\n",
    "            else:\n",
    "                Last_i = Last_i + 1\n",
    "\n",
    "    # Fixing Month in First day to look\n",
    "    if (First_Day_to_Look%1)==0:\n",
    "        First_Day_to_Look +=  float(\"0.\"+str(FirstMonth))\n",
    "    \n",
    "    is_after_date = [DateVector[date_index]>=datetime.strptime(str(First_Day_to_Look)+\".24\",'%d.%m.%y') if DateVector[date_index] is not None else False for date_index in range(0,len(DateVector),1)]\n",
    "    # if the start date is after all payments, continue next payer\n",
    "    if not any(is_after_date[FirstMonth-1:]):\n",
    "        continue\n",
    "    \n",
    "    RelevantPaymentVec = payments[FirstMonth-1:]\n",
    "    RelevantPaid = RelevantPaymentVec[~pd.isnull(RelevantPaymentVec)]\n",
    "    RelevantSum  = sum(RelevantPaid)\n",
    "    if RelevantSum<1:\n",
    "        continue\n",
    "    RelevandPaidMonths = round(RelevantSum/250) \n",
    "    monthStr = '{:02d}'.format(RelevandPaidMonths)\n",
    "    monthNumStr = '{:02d}'.format(max([min([PaidMonthVec.index(x)+1 for x in PaidMonthVec if x != 0]),FirstMonth]))\n",
    "    yearStr = DateVector[ValiDate.index(True)].strftime('%y')\n",
    "    receiptNumber = '{:02d}'.format(Apartment) + monthStr + monthNumStr + yearStr\n",
    "\n",
    "    # Open the template document\n",
    "    doc = word.Documents.Open(os.path.join(os.getcwd(), 'template.docx'))\n",
    "\n",
    "    # Save the new document\n",
    "    doc.SaveAs(os.path.join(os.getcwd(), 'April2\\קבלה ' + receiptNumber + ' ועד בית.docx'))\n",
    "\n",
    "    # Replace placeholders with data from Excel\n",
    "    word.Selection.Find.Execute('{Name}', False, False, False, False, False, True, 1, True, Name, 2)\n",
    "    word.Selection.Find.Execute('{Apartment}', False, False, False, False, False, True, 1, True, str(Apartment), 2)\n",
    "    word.Selection.Find.Execute('{Date}', False, False, False, False, False, True, 1, True, datetime.now().strftime('%d/%m/%Y'), 2)\n",
    "    word.Selection.Find.Execute('{Receipt}', False, False, False, False, False, True, 1, True, receiptNumber, 2)\n",
    "\n",
    "    # Get the existing table\n",
    "    table = doc.Tables(1)\n",
    "\n",
    "    # Fill table with data\n",
    "    index = 0\n",
    "    for Vi in range(FirstMonth, len(ValiDate)+1):\n",
    "        if ValiDate[Vi-1]:\n",
    "            try:\n",
    "                AllNames = [MonthsNames[ind] for ind,x in enumerate(PaidMonthVec) if x == Vi]\n",
    "                monthString = ' - '.join(list(set([AllNames[0], AllNames[-1]])))\n",
    "            except:\n",
    "                continue\n",
    "            index = index + 1\n",
    "            row = table.Rows.Add()\n",
    "            row.Cells(1).Range.Text = str(index)\n",
    "            row.Cells(2).Range.Text = 'תשלום עבור ' + monthString + ' 2024'\n",
    "            row.Cells(3).Range.Text = Methodi\n",
    "            row.Cells(4).Range.Text = DateVector[Vi-1].strftime('%d/%m/%y')\n",
    "            row.Cells(5).Range.Text = str(paymentsVec[Vi-1]) + ' ₪'\n",
    "\n",
    "    # Replace {Sum} placeholder with sum of amounts\n",
    "    word.Selection.Find.Execute('{Sum}', False, False, False, False, False, True, 1, True, str(RelevantSum), 2)\n",
    "\n",
    "    doc.Save()\n",
    "    doc.SaveAs(os.path.join(os.getcwd(), 'April2\\קבלה ' + receiptNumber + ' ועד בית.pdf'), FileFormat=17)\n",
    "    doc.Close()\n",
    "\n",
    "word.Quit()\n"
   ]
  },
  {
   "cell_type": "code",
   "execution_count": 28,
   "id": "7e90917b",
   "metadata": {},
   "outputs": [
    {
     "data": {
      "text/plain": [
       "[True,\n",
       " False,\n",
       " False,\n",
       " False,\n",
       " False,\n",
       " False,\n",
       " False,\n",
       " False,\n",
       " False,\n",
       " False,\n",
       " False,\n",
       " False]"
      ]
     },
     "execution_count": 28,
     "metadata": {},
     "output_type": "execute_result"
    }
   ],
   "source": [
    "First_Day_to_Look = 1.1\n",
    "[DateVector[date_index]>=datetime.strptime(str(First_Day_to_Look)+\".24\",'%d.%m.%y') if DateVector[date_index] is not None else False for date_index in range(0,len(DateVector),1)]"
   ]
  },
  {
   "cell_type": "code",
   "execution_count": 24,
   "id": "4968a4b1",
   "metadata": {},
   "outputs": [
    {
     "name": "stdout",
     "output_type": "stream",
     "text": [
      "[False, False, False, False, False, False, False, False, False, False, False, False]\n"
     ]
    }
   ],
   "source": [
    "First_Day_to_Look = 1.4\n",
    "is_after_time = [False]*12\n",
    "for date_index in range(0,len(DateVector),1):\n",
    "    if DateVector[date_index] is not None:\n",
    "        is_after_time[date_index] = DateVector[date_index]>=datetime.strptime(str(First_Day_to_Look)+\".24\",'%d.%m.%y')\n",
    "    else:\n",
    "        is_after_time[date_index] = False\n",
    "\n",
    "print(is_after_time)"
   ]
  },
  {
   "cell_type": "code",
   "execution_count": 46,
   "id": "690eb8c4",
   "metadata": {},
   "outputs": [
    {
     "name": "stdout",
     "output_type": "stream",
     "text": [
      "[True, True, True, True, False, False, False, False, False, False, False, False, False]\n",
      "True\n"
     ]
    }
   ],
   "source": [
    "print(is_after_time)\n",
    "print(not any(is_after_time[4:]))\n"
   ]
  },
  {
   "cell_type": "code",
   "execution_count": 62,
   "id": "0c9425bb",
   "metadata": {},
   "outputs": [
    {
     "data": {
      "text/plain": [
       "[True,\n",
       " True,\n",
       " True,\n",
       " True,\n",
       " False,\n",
       " False,\n",
       " False,\n",
       " False,\n",
       " False,\n",
       " False,\n",
       " False,\n",
       " False,\n",
       " False]"
      ]
     },
     "execution_count": 62,
     "metadata": {},
     "output_type": "execute_result"
    }
   ],
   "source": [
    "is_after_time"
   ]
  },
  {
   "cell_type": "code",
   "execution_count": 72,
   "id": "2ff0994d",
   "metadata": {},
   "outputs": [
    {
     "data": {
      "text/plain": [
       "4"
      ]
     },
     "execution_count": 72,
     "metadata": {},
     "output_type": "execute_result"
    }
   ],
   "source": [
    "max([min([PaidMonthVec.index(x)+1 for x in PaidMonthVec if x != 0]),FirstMonth])"
   ]
  },
  {
   "cell_type": "code",
   "execution_count": 71,
   "id": "afba8171",
   "metadata": {},
   "outputs": [
    {
     "data": {
      "text/plain": [
       "4"
      ]
     },
     "execution_count": 71,
     "metadata": {},
     "output_type": "execute_result"
    }
   ],
   "source": [
    "FirstMonth = 4\n",
    "\n",
    "FirstMonth"
   ]
  },
  {
   "cell_type": "code",
   "execution_count": 73,
   "id": "51a651ae",
   "metadata": {},
   "outputs": [
    {
     "data": {
      "text/plain": [
       "array([250, nan, nan, nan, nan, nan, nan, nan, nan], dtype=object)"
      ]
     },
     "execution_count": 73,
     "metadata": {},
     "output_type": "execute_result"
    }
   ],
   "source": [
    "RelevantPaymentVec"
   ]
  },
  {
   "cell_type": "code",
   "execution_count": null,
   "id": "e0fcb17d",
   "metadata": {},
   "outputs": [],
   "source": []
  }
 ],
 "metadata": {
  "kernelspec": {
   "display_name": "Python 3 (ipykernel)",
   "language": "python",
   "name": "python3"
  },
  "language_info": {
   "codemirror_mode": {
    "name": "ipython",
    "version": 3
   },
   "file_extension": ".py",
   "mimetype": "text/x-python",
   "name": "python",
   "nbconvert_exporter": "python",
   "pygments_lexer": "ipython3",
   "version": "3.11.5"
  }
 },
 "nbformat": 4,
 "nbformat_minor": 5
}
