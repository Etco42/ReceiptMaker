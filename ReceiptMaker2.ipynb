{
 "cells": [
  {
   "cell_type": "code",
   "execution_count": 106,
   "id": "4f83d69b",
   "metadata": {},
   "outputs": [
    {
     "name": "stdout",
     "output_type": "stream",
     "text": [
      "Requirement already satisfied: pandas in c:\\users\\iteyec\\appdata\\local\\anaconda3\\lib\\site-packages (2.0.3)\n",
      "Requirement already satisfied: python-docx in c:\\users\\iteyec\\appdata\\local\\anaconda3\\lib\\site-packages (1.1.0)\n",
      "Requirement already satisfied: python-dateutil>=2.8.2 in c:\\users\\iteyec\\appdata\\local\\anaconda3\\lib\\site-packages (from pandas) (2.8.2)\n",
      "Requirement already satisfied: pytz>=2020.1 in c:\\users\\iteyec\\appdata\\local\\anaconda3\\lib\\site-packages (from pandas) (2023.3.post1)\n",
      "Requirement already satisfied: tzdata>=2022.1 in c:\\users\\iteyec\\appdata\\local\\anaconda3\\lib\\site-packages (from pandas) (2023.3)\n",
      "Requirement already satisfied: numpy>=1.21.0 in c:\\users\\iteyec\\appdata\\local\\anaconda3\\lib\\site-packages (from pandas) (1.24.3)\n",
      "Requirement already satisfied: lxml>=3.1.0 in c:\\users\\iteyec\\appdata\\local\\anaconda3\\lib\\site-packages (from python-docx) (4.9.3)\n",
      "Requirement already satisfied: typing-extensions in c:\\users\\iteyec\\appdata\\local\\anaconda3\\lib\\site-packages (from python-docx) (4.7.1)\n",
      "Requirement already satisfied: six>=1.5 in c:\\users\\iteyec\\appdata\\local\\anaconda3\\lib\\site-packages (from python-dateutil>=2.8.2->pandas) (1.16.0)\n",
      "Requirement already satisfied: pywin32 in c:\\users\\iteyec\\appdata\\local\\anaconda3\\lib\\site-packages (305.1)\n"
     ]
    }
   ],
   "source": [
    "!pip install pandas python-docx\n",
    "!pip install pywin32"
   ]
  },
  {
   "cell_type": "code",
   "execution_count": 188,
   "id": "51c6bc22",
   "metadata": {},
   "outputs": [],
   "source": [
    "import pandas as pd\n",
    "from docx import Document\n",
    "from docx.shared import Pt\n",
    "from datetime import datetime\n",
    "from docx.enum.text import WD_PARAGRAPH_ALIGNMENT\n",
    "import numpy as np\n",
    "import os\n",
    "\n",
    "#def replace_placeholder_in_runs(paragraph, placeholder, new_text):\n",
    "#    # Combine all runs in the paragraph into a single string\n",
    "#    full_text = ''.join(run.text for run in paragraph.runs)\n",
    "#\n",
    "#    # If the placeholder is not in the full text, there's nothing to replace\n",
    "#    if placeholder not in full_text:\n",
    "#        return\n",
    "#\n",
    "#    # Replace the placeholder in the full text\n",
    "#    full_text = full_text.replace(placeholder, new_text)\n",
    "#\n",
    "#    # Clear all runs in the paragraph\n",
    "#    for run in paragraph.runs:\n",
    "#        run.clear()\n",
    "#\n",
    "#    # Add a new run with the modified text\n",
    "#    paragraph.add_run(full_text)\n",
    "    \n",
    "# Load Excel data\n",
    "#MyFile = input(\"Enter your file path: \")\n",
    "df = pd.read_excel('PayMarch2024.xlsx')\n",
    "\n",
    "# Start Word\n",
    "MonthsNames = ['ינואר','פברואר','מרץ','אפריל','מאי','יוני','יולי','אוגוסט','ספטמבר','אוקטובר','נובמבר','דצמבר']\n",
    "\n",
    "# Loop over each row in the Excel data\n",
    "FirstPayer = 1\n",
    "FirstMonth = 3\n",
    "LastPayer = 34\n",
    "\n",
    "Length_of_Month_Vec = 13-FirstMonth\n",
    "\n",
    "Payers = (np.array([4,12,15,25])-1)*2 #range(FirstPayer-1, 2*LastPayer-1, 2)\n",
    "for i in Payers:  # size(raw, 1)\n",
    "    # collect date\n",
    "    Name = df.iloc[i, 0] # take the name\n",
    "    Apartment = int(df.iloc[i, 1]) # take the Ap.No.\n",
    "    Methodi = df.iloc[i+1, 2]\n",
    "    if pd.isnull(Methodi):\n",
    "        Methodi = 'העברה'\n",
    "    paymentsVec = df.iloc[i, (2+FirstMonth):(15)].values # start at the FirstMonth\n",
    "    payments = paymentsVec[~pd.isnull(paymentsVec)] #only valid paid\n",
    "    Sum = sum(payments) #total paid by payer\n",
    "    paidMonths = round(Sum/250) #relevant paid month at all\n",
    "    \n",
    "    #try:\n",
    "    #    DateVector = [parse_date(x) if isinstance(x, str) else None for x in df.iloc[i+1, 3:15]]\n",
    "    #except:\n",
    "    #adding year to string for better date string recognition\n",
    "    DateVector = [datetime.strptime(x+'.2024', 'שולם %d.%m.%Y') if isinstance(x, str) else None for x in df.iloc[i+1, (2+FirstMonth):15]]\n",
    "    \n",
    "    ValiDate = [x is not None for x in DateVector]\n",
    "\n",
    "    PaidVec = [False]*Length_of_Month_Vec\n",
    "    PaidVec[:paidMonths] = [True]*paidMonths\n",
    "    PaidMonthVec = [0]*Length_of_Month_Vec\n",
    "    Last_i = 0\n",
    "    for Vi in range(len(ValiDate)):\n",
    "        if ValiDate[Vi]:\n",
    "            nowNumMonth = round(paymentsVec[Vi]/250)\n",
    "            if nowNumMonth > 0:\n",
    "                PaidMonthVec[Last_i:Last_i+nowNumMonth] = [Vi]*(nowNumMonth)\n",
    "                Last_i = Last_i + nowNumMonth\n",
    "            else:\n",
    "                Last_i = Last_i + 1\n",
    "\n",
    "    monthStr = '{:02d}'.format(paidMonths)\n",
    "    monthNumStr = '{:02d}'.format(max([PaidMonthVec.index(x)+1 for x in PaidMonthVec if x != 0] + [FirstMonth]))\n",
    "    #monthNumStr = '{:02d}'.format(max([PaidMonthVec.index(x) for x in PaidMonthVec if x != 0, FirstMonth]))\n",
    "    yearStr = '24'\n",
    "    receiptNumber = '{:02d}'.format(int(Apartment)) + monthStr + monthNumStr + yearStr\n",
    "\n",
    "    # Open the template document\n",
    "    document = Document(os.path.join(os.getcwd(), 'template.docx'))\n",
    "\n",
    "    # Replace placeholders with data from Excel\n",
    "    #for paragraph in document.paragraphs:\n",
    "    #    replace_placeholder_in_runs(paragraph, '{Name}', Name)\n",
    "    #    replace_placeholder_in_runs(paragraph, '{Apartment}', str(Apartment))\n",
    "    #    replace_placeholder_in_runs(paragraph, '{Date}', datetime.now().strftime('%d/%m/%Y'))\n",
    "    #    replace_placeholder_in_runs(paragraph, '{Receipt}', receiptNumber)\n",
    "    # Replace placeholders with data from Excel\n",
    "    for p in document.paragraphs:\n",
    "        if '{Name}' in p.text:\n",
    "            p.text = p.text.replace('{Name}', Name)\n",
    "        if '{Apartment}' in p.text:\n",
    "            p.text = p.text.replace('{Apartment}', str(Apartment))\n",
    "        if '{Date}' in p.text:\n",
    "            p.text = p.text.replace('{Date}', datetime.now().strftime('%d/%m/%Y'))\n",
    "        if '{Receipt}' in p.text:\n",
    "            p.text = p.text.replace('{Receipt}', receiptNumber)\n",
    "\n",
    "\n",
    "    # Get the existing table\n",
    "    table = document.tables[0]\n",
    "\n",
    "    # Fill table with data\n",
    "    index = 0\n",
    "    for Vi in range(1, len(ValiDate)):\n",
    "        if ValiDate[Vi]:\n",
    "            #try:\n",
    "            AllNames = [MonthsNames[x] for x in PaidMonthVec if x == Vi]\n",
    "            monthString = ' - '.join(list(set([AllNames[0], AllNames[-1]])))\n",
    "            #except:\n",
    "            #    continue\n",
    "            index = index + 1\n",
    "            row = table.add_row()\n",
    "            row.cells[0].text = str(index)\n",
    "            row.cells[1].text = 'תשלום עבור ' + monthString + ' 2024'\n",
    "            row.cells[2].text = Methodi\n",
    "            row.cells[3].text = DateVector[Vi].strftime('%d/%m/%y')\n",
    "            row.cells[4].text = str(paymentsVec[Vi]) + ' ₪'\n",
    "\n",
    "    # Replace {Sum} placeholder with sum of amounts\n",
    "    for p in document.paragraphs:\n",
    "        if '{Sum}' in p.text:\n",
    "            p.text = p.text.replace('{Sum}', str(Sum))\n",
    "\n",
    "    # Save the new document\n",
    "    document.save(os.path.join(os.getcwd(), 'קבלה ' + receiptNumber + ' ועד בית.docx'))\n",
    "    os.system('pandoc -s \"קבלה ' + receiptNumber + ' ועד בית.docx\" -o \"קבלה ' + receiptNumber + ' ועד בית.pdf\"')\n",
    "\n",
    "\n",
    "\n",
    "   # def parse_date(x):\n",
    "   #     try:\n",
    "   #         return datetime.strptime(x, 'שולם %d.%m')\n",
    "   #     except ValueError:\n",
    "   #         # Handle February 29 dates\n",
    "   #         return datetime.strptime(x+'.2024', 'שולם %d.%m.%Y')"
   ]
  },
  {
   "cell_type": "code",
   "execution_count": 192,
   "id": "a2ab406f",
   "metadata": {},
   "outputs": [
    {
     "data": {
      "text/plain": [
       "'איתן'"
      ]
     },
     "execution_count": 192,
     "metadata": {},
     "output_type": "execute_result"
    }
   ],
   "source": [
    "Name"
   ]
  },
  {
   "cell_type": "code",
   "execution_count": 312,
   "id": "cfd515c4",
   "metadata": {},
   "outputs": [],
   "source": [
    "import pandas as pd\n",
    "import win32com.client as win32\n",
    "from datetime import datetime\n",
    "import os\n",
    "\n",
    "# Load Excel data\n",
    "MyFile = \"PayMarch2024.xlsx\" # input(\"Enter your file path: \")\n",
    "df = pd.read_excel(MyFile)\n",
    "\n",
    "# Start Word\n",
    "word = win32.gencache.EnsureDispatch('Word.Application')\n",
    "word.Visible = True\n",
    "\n",
    "MonthsNames = ['ינואר','פברואר','מרץ','אפריל','מאי','יוני','יולי','אוגוסט','ספטמבר','אוקטובר','נובמבר','דצמבר']\n",
    "\n",
    "# Loop over each row in the Excel data\n",
    "FirstMonth = 3\n",
    "Length_of_Month_Vec = 13-FirstMonth\n",
    "FirstPayer = 1\n",
    "LastPayer = 25\n",
    "\n",
    "Payers = (np.array([4,12,15,25])-1)*2 #range(2*(FirstPayer-1), 2*LastPayer-1, 2)\n",
    "for i in Payers:  # size(raw, 1)\n",
    "    # collect date\n",
    "    Name = df.iloc[i, 0]\n",
    "    Apartment = int(df.iloc[i, 1])\n",
    "    Methodi = df.iloc[i+1, 2]\n",
    "    if pd.isnull(Methodi):\n",
    "        Methodi = 'העברה'\n",
    "    paymentsVec = df.iloc[i, 3:15].values\n",
    "    payments = paymentsVec[~pd.isnull(paymentsVec)]\n",
    "    Sum = sum(payments)\n",
    "    paidMonths = round(Sum/250)\n",
    "    DateVector = [datetime.strptime(x+'.24', 'שולם %d.%m.%y') if isinstance(x, str) else None for x in df.iloc[i+1, 3:15]]\n",
    "    ValiDate = [x is not None for x in DateVector]\n",
    "\n",
    "    PaidVec = [False]*12\n",
    "    PaidVec[:paidMonths] = [True]*paidMonths\n",
    "    PaidMonthVec = [0]*12\n",
    "    Last_i = 0\n",
    "    for Vi in range(1,len(ValiDate)+1):\n",
    "        if ValiDate[Vi-1]:\n",
    "            nowNumMonth = round(paymentsVec[Vi-1]/250)\n",
    "            if nowNumMonth > 0:\n",
    "                PaidMonthVec[Last_i:Last_i+nowNumMonth] = [Vi]*(nowNumMonth)\n",
    "                Last_i = Last_i + nowNumMonth\n",
    "            else:\n",
    "                Last_i = Last_i + 1\n",
    "\n",
    "    RelevantPaid = payments[FirstMonth-1:]\n",
    "    RelevantSum  = sum(RelevantPaid)\n",
    "    if RelevantSum<1:\n",
    "        continue\n",
    "    RelevandPaidMonths = round(RelevantSum/250) \n",
    "    monthStr = '{:02d}'.format(RelevandPaidMonths)\n",
    "    monthNumStr = '{:02d}'.format(max([min([PaidMonthVec.index(x)+1 for x in PaidMonthVec if x != 0]),FirstMonth]))\n",
    "    yearStr = DateVector[ValiDate.index(True)].strftime('%y')\n",
    "    receiptNumber = '{:02d}'.format(Apartment) + monthStr + monthNumStr + yearStr\n",
    "\n",
    "    # Open the template document\n",
    "    doc = word.Documents.Open(os.path.join(os.getcwd(), 'template.docx'))\n",
    "\n",
    "    # Save the new document\n",
    "    doc.SaveAs(os.path.join(os.getcwd(), 'קבלה ' + receiptNumber + ' ועד בית.docx'))\n",
    "\n",
    "    # Replace placeholders with data from Excel\n",
    "    word.Selection.Find.Execute('{Name}', False, False, False, False, False, True, 1, True, Name, 2)\n",
    "    word.Selection.Find.Execute('{Apartment}', False, False, False, False, False, True, 1, True, str(Apartment), 2)\n",
    "    word.Selection.Find.Execute('{Date}', False, False, False, False, False, True, 1, True, datetime.now().strftime('%d/%m/%Y'), 2)\n",
    "    word.Selection.Find.Execute('{Receipt}', False, False, False, False, False, True, 1, True, receiptNumber, 2)\n",
    "\n",
    "    # Get the existing table\n",
    "    table = doc.Tables(1)\n",
    "\n",
    "    # Fill table with data\n",
    "    index = 0\n",
    "    for Vi in range(FirstMonth, len(ValiDate)+1):\n",
    "        if ValiDate[Vi-1]:\n",
    "            try:\n",
    "                AllNames = [MonthsNames[ind] for ind,x in enumerate(PaidMonthVec) if x == Vi]\n",
    "                monthString = ' - '.join(list(set([AllNames[-1], AllNames[0]])))\n",
    "            except:\n",
    "                continue\n",
    "            index = index + 1\n",
    "            row = table.Rows.Add()\n",
    "            row.Cells(1).Range.Text = str(index)\n",
    "            row.Cells(2).Range.Text = 'תשלום עבור ' + monthString + ' 2024'\n",
    "            row.Cells(3).Range.Text = Methodi\n",
    "            row.Cells(4).Range.Text = DateVector[Vi-1].strftime('%d/%m/%y')\n",
    "            row.Cells(5).Range.Text = str(paymentsVec[Vi-1]) + ' ₪'\n",
    "\n",
    "    # Replace {Sum} placeholder with sum of amounts\n",
    "    word.Selection.Find.Execute('{Sum}', False, False, False, False, False, True, 1, True, str(Sum), 2)\n",
    "\n",
    "    doc.Save()\n",
    "    doc.Close()\n",
    "\n",
    "word.Quit()\n"
   ]
  },
  {
   "cell_type": "markdown",
   "id": "6755c9e3",
   "metadata": {},
   "source": [
    "i"
   ]
  },
  {
   "cell_type": "code",
   "execution_count": 300,
   "id": "d09e9c14",
   "metadata": {},
   "outputs": [
    {
     "data": {
      "text/plain": [
       "1"
      ]
     },
     "execution_count": 300,
     "metadata": {},
     "output_type": "execute_result"
    }
   ],
   "source": [
    "max([min([PaidMonthVec.index(x)+1 for x in PaidMonthVec if x != 0]),FirstMonth])"
   ]
  },
  {
   "cell_type": "code",
   "execution_count": 307,
   "id": "c5af46c1",
   "metadata": {},
   "outputs": [
    {
     "data": {
      "text/plain": [
       "0"
      ]
     },
     "execution_count": 307,
     "metadata": {},
     "output_type": "execute_result"
    }
   ],
   "source": [
    "sum(payments[7:])"
   ]
  },
  {
   "cell_type": "code",
   "execution_count": 292,
   "id": "f4cf21f7",
   "metadata": {},
   "outputs": [],
   "source": [
    "Vi=2"
   ]
  },
  {
   "cell_type": "code",
   "execution_count": 50,
   "id": "f2740bb8",
   "metadata": {},
   "outputs": [
    {
     "ename": "ValueError",
     "evalue": "time data 'שולם11.2.2024' does not match format 'שולם %d.%m.%Y'",
     "output_type": "error",
     "traceback": [
      "\u001b[1;31m---------------------------------------------------------------------------\u001b[0m",
      "\u001b[1;31mValueError\u001b[0m                                Traceback (most recent call last)",
      "Cell \u001b[1;32mIn[50], line 1\u001b[0m\n\u001b[1;32m----> 1\u001b[0m DateVector \u001b[38;5;241m=\u001b[39m [datetime\u001b[38;5;241m.\u001b[39mstrptime(x\u001b[38;5;241m+\u001b[39m\u001b[38;5;124m'\u001b[39m\u001b[38;5;124m.2024\u001b[39m\u001b[38;5;124m'\u001b[39m, \u001b[38;5;124m'\u001b[39m\u001b[38;5;124mשולם \u001b[39m\u001b[38;5;132;01m%d\u001b[39;00m\u001b[38;5;124m.\u001b[39m\u001b[38;5;124m%\u001b[39m\u001b[38;5;124mm.\u001b[39m\u001b[38;5;124m%\u001b[39m\u001b[38;5;124mY\u001b[39m\u001b[38;5;124m'\u001b[39m) \u001b[38;5;28;01mif\u001b[39;00m \u001b[38;5;28misinstance\u001b[39m(x, \u001b[38;5;28mstr\u001b[39m) \u001b[38;5;28;01melse\u001b[39;00m \u001b[38;5;28;01mNone\u001b[39;00m \u001b[38;5;28;01mfor\u001b[39;00m x \u001b[38;5;129;01min\u001b[39;00m df\u001b[38;5;241m.\u001b[39miloc[i\u001b[38;5;241m+\u001b[39m\u001b[38;5;241m1\u001b[39m, \u001b[38;5;241m3\u001b[39m:\u001b[38;5;241m15\u001b[39m]]\n",
      "Cell \u001b[1;32mIn[50], line 1\u001b[0m, in \u001b[0;36m<listcomp>\u001b[1;34m(.0)\u001b[0m\n\u001b[1;32m----> 1\u001b[0m DateVector \u001b[38;5;241m=\u001b[39m [datetime\u001b[38;5;241m.\u001b[39mstrptime(x\u001b[38;5;241m+\u001b[39m\u001b[38;5;124m'\u001b[39m\u001b[38;5;124m.2024\u001b[39m\u001b[38;5;124m'\u001b[39m, \u001b[38;5;124m'\u001b[39m\u001b[38;5;124mשולם \u001b[39m\u001b[38;5;132;01m%d\u001b[39;00m\u001b[38;5;124m.\u001b[39m\u001b[38;5;124m%\u001b[39m\u001b[38;5;124mm.\u001b[39m\u001b[38;5;124m%\u001b[39m\u001b[38;5;124mY\u001b[39m\u001b[38;5;124m'\u001b[39m) \u001b[38;5;28;01mif\u001b[39;00m \u001b[38;5;28misinstance\u001b[39m(x, \u001b[38;5;28mstr\u001b[39m) \u001b[38;5;28;01melse\u001b[39;00m \u001b[38;5;28;01mNone\u001b[39;00m \u001b[38;5;28;01mfor\u001b[39;00m x \u001b[38;5;129;01min\u001b[39;00m df\u001b[38;5;241m.\u001b[39miloc[i\u001b[38;5;241m+\u001b[39m\u001b[38;5;241m1\u001b[39m, \u001b[38;5;241m3\u001b[39m:\u001b[38;5;241m15\u001b[39m]]\n",
      "File \u001b[1;32m~\\AppData\\Local\\anaconda3\\Lib\\_strptime.py:568\u001b[0m, in \u001b[0;36m_strptime_datetime\u001b[1;34m(cls, data_string, format)\u001b[0m\n\u001b[0;32m    565\u001b[0m \u001b[38;5;28;01mdef\u001b[39;00m \u001b[38;5;21m_strptime_datetime\u001b[39m(\u001b[38;5;28mcls\u001b[39m, data_string, \u001b[38;5;28mformat\u001b[39m\u001b[38;5;241m=\u001b[39m\u001b[38;5;124m\"\u001b[39m\u001b[38;5;132;01m%a\u001b[39;00m\u001b[38;5;124m \u001b[39m\u001b[38;5;124m%\u001b[39m\u001b[38;5;124mb \u001b[39m\u001b[38;5;132;01m%d\u001b[39;00m\u001b[38;5;124m \u001b[39m\u001b[38;5;124m%\u001b[39m\u001b[38;5;124mH:\u001b[39m\u001b[38;5;124m%\u001b[39m\u001b[38;5;124mM:\u001b[39m\u001b[38;5;124m%\u001b[39m\u001b[38;5;124mS \u001b[39m\u001b[38;5;124m%\u001b[39m\u001b[38;5;124mY\u001b[39m\u001b[38;5;124m\"\u001b[39m):\n\u001b[0;32m    566\u001b[0m \u001b[38;5;250m    \u001b[39m\u001b[38;5;124;03m\"\"\"Return a class cls instance based on the input string and the\u001b[39;00m\n\u001b[0;32m    567\u001b[0m \u001b[38;5;124;03m    format string.\"\"\"\u001b[39;00m\n\u001b[1;32m--> 568\u001b[0m     tt, fraction, gmtoff_fraction \u001b[38;5;241m=\u001b[39m _strptime(data_string, \u001b[38;5;28mformat\u001b[39m)\n\u001b[0;32m    569\u001b[0m     tzname, gmtoff \u001b[38;5;241m=\u001b[39m tt[\u001b[38;5;241m-\u001b[39m\u001b[38;5;241m2\u001b[39m:]\n\u001b[0;32m    570\u001b[0m     args \u001b[38;5;241m=\u001b[39m tt[:\u001b[38;5;241m6\u001b[39m] \u001b[38;5;241m+\u001b[39m (fraction,)\n",
      "File \u001b[1;32m~\\AppData\\Local\\anaconda3\\Lib\\_strptime.py:349\u001b[0m, in \u001b[0;36m_strptime\u001b[1;34m(data_string, format)\u001b[0m\n\u001b[0;32m    347\u001b[0m found \u001b[38;5;241m=\u001b[39m format_regex\u001b[38;5;241m.\u001b[39mmatch(data_string)\n\u001b[0;32m    348\u001b[0m \u001b[38;5;28;01mif\u001b[39;00m \u001b[38;5;129;01mnot\u001b[39;00m found:\n\u001b[1;32m--> 349\u001b[0m     \u001b[38;5;28;01mraise\u001b[39;00m \u001b[38;5;167;01mValueError\u001b[39;00m(\u001b[38;5;124m\"\u001b[39m\u001b[38;5;124mtime data \u001b[39m\u001b[38;5;132;01m%r\u001b[39;00m\u001b[38;5;124m does not match format \u001b[39m\u001b[38;5;132;01m%r\u001b[39;00m\u001b[38;5;124m\"\u001b[39m \u001b[38;5;241m%\u001b[39m\n\u001b[0;32m    350\u001b[0m                      (data_string, \u001b[38;5;28mformat\u001b[39m))\n\u001b[0;32m    351\u001b[0m \u001b[38;5;28;01mif\u001b[39;00m \u001b[38;5;28mlen\u001b[39m(data_string) \u001b[38;5;241m!=\u001b[39m found\u001b[38;5;241m.\u001b[39mend():\n\u001b[0;32m    352\u001b[0m     \u001b[38;5;28;01mraise\u001b[39;00m \u001b[38;5;167;01mValueError\u001b[39;00m(\u001b[38;5;124m\"\u001b[39m\u001b[38;5;124munconverted data remains: \u001b[39m\u001b[38;5;132;01m%s\u001b[39;00m\u001b[38;5;124m\"\u001b[39m \u001b[38;5;241m%\u001b[39m\n\u001b[0;32m    353\u001b[0m                       data_string[found\u001b[38;5;241m.\u001b[39mend():])\n",
      "\u001b[1;31mValueError\u001b[0m: time data 'שולם11.2.2024' does not match format 'שולם %d.%m.%Y'"
     ]
    }
   ],
   "source": [
    "DateVector = [datetime.strptime(x+'.2024', 'שולם %d.%m.%Y') if isinstance(x, str) else None for x in df.iloc[i+1, 3:15]]\n",
    "    "
   ]
  },
  {
   "cell_type": "code",
   "execution_count": 64,
   "id": "af2c5e21",
   "metadata": {},
   "outputs": [
    {
     "ename": "ValueError",
     "evalue": "time data 'שולם 10.1.2024' does not match format 'שולם%d.%m.%Y'",
     "output_type": "error",
     "traceback": [
      "\u001b[1;31m---------------------------------------------------------------------------\u001b[0m",
      "\u001b[1;31mTypeError\u001b[0m                                 Traceback (most recent call last)",
      "Cell \u001b[1;32mIn[64], line 6\u001b[0m\n\u001b[0;32m      5\u001b[0m \u001b[38;5;28;01mtry\u001b[39;00m:\n\u001b[1;32m----> 6\u001b[0m     NowVec\u001b[38;5;241m+\u001b[39m\u001b[38;5;241m=\u001b[39mdatetime\u001b[38;5;241m.\u001b[39mstrptime(x\u001b[38;5;241m+\u001b[39m\u001b[38;5;124m'\u001b[39m\u001b[38;5;124m.2024\u001b[39m\u001b[38;5;124m'\u001b[39m, \u001b[38;5;124m'\u001b[39m\u001b[38;5;124mשולם \u001b[39m\u001b[38;5;132;01m%d\u001b[39;00m\u001b[38;5;124m.\u001b[39m\u001b[38;5;124m%\u001b[39m\u001b[38;5;124mm.\u001b[39m\u001b[38;5;124m%\u001b[39m\u001b[38;5;124mY\u001b[39m\u001b[38;5;124m'\u001b[39m)\n\u001b[0;32m      7\u001b[0m \u001b[38;5;28;01mexcept\u001b[39;00m:\n",
      "\u001b[1;31mTypeError\u001b[0m: 'datetime.datetime' object is not iterable",
      "\nDuring handling of the above exception, another exception occurred:\n",
      "\u001b[1;31mValueError\u001b[0m                                Traceback (most recent call last)",
      "Cell \u001b[1;32mIn[64], line 8\u001b[0m\n\u001b[0;32m      6\u001b[0m         NowVec\u001b[38;5;241m+\u001b[39m\u001b[38;5;241m=\u001b[39mdatetime\u001b[38;5;241m.\u001b[39mstrptime(x\u001b[38;5;241m+\u001b[39m\u001b[38;5;124m'\u001b[39m\u001b[38;5;124m.2024\u001b[39m\u001b[38;5;124m'\u001b[39m, \u001b[38;5;124m'\u001b[39m\u001b[38;5;124mשולם \u001b[39m\u001b[38;5;132;01m%d\u001b[39;00m\u001b[38;5;124m.\u001b[39m\u001b[38;5;124m%\u001b[39m\u001b[38;5;124mm.\u001b[39m\u001b[38;5;124m%\u001b[39m\u001b[38;5;124mY\u001b[39m\u001b[38;5;124m'\u001b[39m)\n\u001b[0;32m      7\u001b[0m     \u001b[38;5;28;01mexcept\u001b[39;00m:\n\u001b[1;32m----> 8\u001b[0m         NowVec\u001b[38;5;241m+\u001b[39m\u001b[38;5;241m=\u001b[39mdatetime\u001b[38;5;241m.\u001b[39mstrptime(x\u001b[38;5;241m+\u001b[39m\u001b[38;5;124m'\u001b[39m\u001b[38;5;124m.2024\u001b[39m\u001b[38;5;124m'\u001b[39m, \u001b[38;5;124m'\u001b[39m\u001b[38;5;124mשולם\u001b[39m\u001b[38;5;132;01m%d\u001b[39;00m\u001b[38;5;124m.\u001b[39m\u001b[38;5;124m%\u001b[39m\u001b[38;5;124mm.\u001b[39m\u001b[38;5;124m%\u001b[39m\u001b[38;5;124mY\u001b[39m\u001b[38;5;124m'\u001b[39m)\n\u001b[0;32m      9\u001b[0m \u001b[38;5;28;01melse\u001b[39;00m:\n\u001b[0;32m     10\u001b[0m     NowVec\u001b[38;5;241m+\u001b[39m\u001b[38;5;241m=\u001b[39m\u001b[38;5;28;01mNone\u001b[39;00m\n",
      "File \u001b[1;32m~\\AppData\\Local\\anaconda3\\Lib\\_strptime.py:568\u001b[0m, in \u001b[0;36m_strptime_datetime\u001b[1;34m(cls, data_string, format)\u001b[0m\n\u001b[0;32m    565\u001b[0m \u001b[38;5;28;01mdef\u001b[39;00m \u001b[38;5;21m_strptime_datetime\u001b[39m(\u001b[38;5;28mcls\u001b[39m, data_string, \u001b[38;5;28mformat\u001b[39m\u001b[38;5;241m=\u001b[39m\u001b[38;5;124m\"\u001b[39m\u001b[38;5;132;01m%a\u001b[39;00m\u001b[38;5;124m \u001b[39m\u001b[38;5;124m%\u001b[39m\u001b[38;5;124mb \u001b[39m\u001b[38;5;132;01m%d\u001b[39;00m\u001b[38;5;124m \u001b[39m\u001b[38;5;124m%\u001b[39m\u001b[38;5;124mH:\u001b[39m\u001b[38;5;124m%\u001b[39m\u001b[38;5;124mM:\u001b[39m\u001b[38;5;124m%\u001b[39m\u001b[38;5;124mS \u001b[39m\u001b[38;5;124m%\u001b[39m\u001b[38;5;124mY\u001b[39m\u001b[38;5;124m\"\u001b[39m):\n\u001b[0;32m    566\u001b[0m \u001b[38;5;250m    \u001b[39m\u001b[38;5;124;03m\"\"\"Return a class cls instance based on the input string and the\u001b[39;00m\n\u001b[0;32m    567\u001b[0m \u001b[38;5;124;03m    format string.\"\"\"\u001b[39;00m\n\u001b[1;32m--> 568\u001b[0m     tt, fraction, gmtoff_fraction \u001b[38;5;241m=\u001b[39m _strptime(data_string, \u001b[38;5;28mformat\u001b[39m)\n\u001b[0;32m    569\u001b[0m     tzname, gmtoff \u001b[38;5;241m=\u001b[39m tt[\u001b[38;5;241m-\u001b[39m\u001b[38;5;241m2\u001b[39m:]\n\u001b[0;32m    570\u001b[0m     args \u001b[38;5;241m=\u001b[39m tt[:\u001b[38;5;241m6\u001b[39m] \u001b[38;5;241m+\u001b[39m (fraction,)\n",
      "File \u001b[1;32m~\\AppData\\Local\\anaconda3\\Lib\\_strptime.py:349\u001b[0m, in \u001b[0;36m_strptime\u001b[1;34m(data_string, format)\u001b[0m\n\u001b[0;32m    347\u001b[0m found \u001b[38;5;241m=\u001b[39m format_regex\u001b[38;5;241m.\u001b[39mmatch(data_string)\n\u001b[0;32m    348\u001b[0m \u001b[38;5;28;01mif\u001b[39;00m \u001b[38;5;129;01mnot\u001b[39;00m found:\n\u001b[1;32m--> 349\u001b[0m     \u001b[38;5;28;01mraise\u001b[39;00m \u001b[38;5;167;01mValueError\u001b[39;00m(\u001b[38;5;124m\"\u001b[39m\u001b[38;5;124mtime data \u001b[39m\u001b[38;5;132;01m%r\u001b[39;00m\u001b[38;5;124m does not match format \u001b[39m\u001b[38;5;132;01m%r\u001b[39;00m\u001b[38;5;124m\"\u001b[39m \u001b[38;5;241m%\u001b[39m\n\u001b[0;32m    350\u001b[0m                      (data_string, \u001b[38;5;28mformat\u001b[39m))\n\u001b[0;32m    351\u001b[0m \u001b[38;5;28;01mif\u001b[39;00m \u001b[38;5;28mlen\u001b[39m(data_string) \u001b[38;5;241m!=\u001b[39m found\u001b[38;5;241m.\u001b[39mend():\n\u001b[0;32m    352\u001b[0m     \u001b[38;5;28;01mraise\u001b[39;00m \u001b[38;5;167;01mValueError\u001b[39;00m(\u001b[38;5;124m\"\u001b[39m\u001b[38;5;124munconverted data remains: \u001b[39m\u001b[38;5;132;01m%s\u001b[39;00m\u001b[38;5;124m\"\u001b[39m \u001b[38;5;241m%\u001b[39m\n\u001b[0;32m    353\u001b[0m                       data_string[found\u001b[38;5;241m.\u001b[39mend():])\n",
      "\u001b[1;31mValueError\u001b[0m: time data 'שולם 10.1.2024' does not match format 'שולם%d.%m.%Y'"
     ]
    }
   ],
   "source": [
    "dateind = 0;\n",
    "NowVec = [datetime.strptime('שולם '+'1.1.2024', 'שולם %d.%m.%Y')]\n",
    "for x in df.iloc[i+1, 3:15]:\n",
    "    if isinstance(x, str):\n",
    "        try:\n",
    "            NowVec=datetime.strptime(x+'.2024', 'שולם %d.%m.%Y')\n",
    "        except:\n",
    "            NowVec=datetime.strptime(x+'.2024', 'שולם%d.%m.%Y')\n",
    "    else:\n",
    "        NowVec+=None\n",
    "    dateind+=1\n",
    "NowVec"
   ]
  },
  {
   "cell_type": "code",
   "execution_count": 63,
   "id": "77f2d4a4",
   "metadata": {},
   "outputs": [
    {
     "data": {
      "text/plain": [
       "[datetime.datetime(2024, 1, 10, 0, 0)]"
      ]
     },
     "execution_count": 63,
     "metadata": {},
     "output_type": "execute_result"
    }
   ],
   "source": [
    "NowVec"
   ]
  },
  {
   "cell_type": "code",
   "execution_count": null,
   "id": "7f97efbd",
   "metadata": {},
   "outputs": [],
   "source": []
  }
 ],
 "metadata": {
  "kernelspec": {
   "display_name": "Python 3 (ipykernel)",
   "language": "python",
   "name": "python3"
  },
  "language_info": {
   "codemirror_mode": {
    "name": "ipython",
    "version": 3
   },
   "file_extension": ".py",
   "mimetype": "text/x-python",
   "name": "python",
   "nbconvert_exporter": "python",
   "pygments_lexer": "ipython3",
   "version": "3.11.5"
  }
 },
 "nbformat": 4,
 "nbformat_minor": 5
}
